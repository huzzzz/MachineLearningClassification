{
 "cells": [
  {
   "cell_type": "code",
   "execution_count": 31,
   "metadata": {},
   "outputs": [
    {
     "name": "stdout",
     "output_type": "stream",
     "text": [
      "(1460, 117)\n",
      "978\n",
      "482\n",
      "978\n",
      "482\n",
      "Original column len 32\n",
      "New column length 117\n",
      "0.49377593361\n",
      "0.952282157676\n",
      "0.93153526971\n",
      "0.48132780083\n",
      "117\n"
     ]
    }
   ],
   "source": [
    "# from train import get_features_from_input\n",
    "\n",
    "%run train.py.ipynb\n",
    "\n",
    "import pandas as pd\n",
    "\n",
    "# Included the df_train as well since in the get_features_from_input function while doing the \n",
    "# one hot encoding we need all the possible features\n",
    "\n",
    "df_test = pd.read_csv('testSold.csv', index_col=0)\n",
    "df_train = pd.read_csv('trainSold.csv', index_col=0)\n",
    "df_train.drop('SaleStatus', axis=1, inplace=True)\n",
    "\n",
    "df_gt = pd.read_csv('gt.csv', index_col=0)\n",
    "\n",
    "y = df_gt.as_matrix()\n",
    "\n",
    "X, dum2 = get_features_from_input(df_test, df_train)\n",
    "\n",
    "print(X.shape[1])"
   ]
  },
  {
   "cell_type": "code",
   "execution_count": 32,
   "metadata": {
    "collapsed": true
   },
   "outputs": [],
   "source": [
    "#Read the models in as input\n",
    "import pickle\n",
    "\n",
    "best_model1 = pickle.load(open('model3.sav', 'rb'))\n",
    "\n",
    "best_model2 = pickle.load(open('model1.sav', 'rb'))"
   ]
  },
  {
   "cell_type": "code",
   "execution_count": 33,
   "metadata": {},
   "outputs": [
    {
     "name": "stdout",
     "output_type": "stream",
     "text": [
      "Accuracy of model1 is  0.478409869774\n",
      "Accuracy of model2 is  0.446881425634\n"
     ]
    }
   ],
   "source": [
    "\n",
    "#Calculating the scores for both the models\n",
    "sc1 = best_model1.score(X, y)\n",
    "sc2 = best_model2.score(X, y)\n",
    "\n",
    "print(\"Accuracy of model1 is \", sc1)\n",
    "print(\"Accuracy of model2 is \", sc2)"
   ]
  },
  {
   "cell_type": "code",
   "execution_count": 48,
   "metadata": {},
   "outputs": [],
   "source": [
    "#Predict the output for the input data for the better model and saving the output to out.csv\n",
    "out = []\n",
    "if (sc1 > sc2):\n",
    "    out = best_model1.predict(X)\n",
    "else:\n",
    "    out = best_model2.predict(X)\n",
    "\n",
    "out_df = pd.DataFrame({'Id' : df_test.index.values, 'SaleStatus' : out[:]})\n",
    "out_df.to_csv('out.csv', index=False)"
   ]
  },
  {
   "cell_type": "code",
   "execution_count": null,
   "metadata": {
    "collapsed": true
   },
   "outputs": [],
   "source": []
  }
 ],
 "metadata": {
  "kernelspec": {
   "display_name": "Python 3",
   "language": "python",
   "name": "python3"
  },
  "language_info": {
   "codemirror_mode": {
    "name": "ipython",
    "version": 3
   },
   "file_extension": ".py",
   "mimetype": "text/x-python",
   "name": "python",
   "nbconvert_exporter": "python",
   "pygments_lexer": "ipython3",
   "version": "3.6.3"
  }
 },
 "nbformat": 4,
 "nbformat_minor": 2
}
